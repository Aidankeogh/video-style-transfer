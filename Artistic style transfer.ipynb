{
 "cells": [
  {
   "cell_type": "code",
   "execution_count": 1,
   "metadata": {},
   "outputs": [
    {
     "name": "stdout",
     "output_type": "stream",
     "text": [
      "0.4.0\n",
      "0.2.1\n"
     ]
    }
   ],
   "source": [
    "import torch\n",
    "import torch.nn as nn\n",
    "import torch.nn.functional as F\n",
    "import torch.optim as optim\n",
    "\n",
    "from PIL import Image\n",
    "import matplotlib.pyplot as plt\n",
    "import torchvision.transforms as transforms\n",
    "import torchvision.models as models\n",
    "import numpy as np\n",
    "\n",
    "import copy\n",
    "import cv2\n",
    "from neural_style import stylize_img\n",
    "from scipy.misc import imsave\n",
    "import cvbase as cvb\n",
    "import glob"
   ]
  },
  {
   "cell_type": "code",
   "execution_count": 13,
   "metadata": {},
   "outputs": [],
   "source": [
    "videoDir = \"test-videos/iguana_pan\""
   ]
  },
  {
   "cell_type": "code",
   "execution_count": 15,
   "metadata": {},
   "outputs": [],
   "source": [
    "images = sorted(glob.glob( videoDir + \"/frame*.png\"))\n",
    "flos = sorted(glob.glob(videoDir + \"/*.flo\"))"
   ]
  },
  {
   "cell_type": "code",
   "execution_count": 16,
   "metadata": {},
   "outputs": [],
   "source": [
    "device = \"cpu\"\n",
    "imsize = (480, 640)\n",
    "\n",
    "loader = transforms.Compose([\n",
    "    transforms.Resize(imsize),# scale imported image\n",
    "    transforms.ToTensor()])  # transform it into a torch tensor\n",
    "unloader = transforms.ToPILImage()\n",
    "\n",
    "def im_loader(image_name, flipped = False):\n",
    "    image = Image.open(image_name)\n",
    "    \n",
    "    image = loader(image).unsqueeze(0)\n",
    "    return image.to(device, torch.float)"
   ]
  },
  {
   "cell_type": "code",
   "execution_count": 17,
   "metadata": {},
   "outputs": [],
   "source": [
    "def flow_warp(original, flostr):\n",
    "    original = (original.view(3,480,640).numpy()).clip(0,1)\n",
    "    original = np.swapaxes(original,2,0)\n",
    "    original = np.swapaxes(original,1,0)\n",
    "    \n",
    "    flo = cvb.read_flow(flostr)\n",
    "    flo = np.swapaxes(flo,2,0)\n",
    "    flo = np.swapaxes(flo,1,2)\n",
    "    _, h, w = flo.shape\n",
    "    flow_map = np.zeros(flo.shape,dtype=np.float32)\n",
    "    \n",
    "    for y in range(h):\n",
    "        flow_map[1,y,:] = float(y) - flo[1,y,:]\n",
    "    for x in range(w):\n",
    "        flow_map[0,:,x] = float(x) - flo[0,:,x]\n",
    "    warped = np.zeros_like(original)\n",
    "    \n",
    "    warped[:,:,0] = cv2.remap(original[:,:,0],flow_map[0],flow_map[1],\n",
    "                   interpolation=cv2.INTER_CUBIC, borderMode=cv2.BORDER_REPLICATE)\n",
    "    warped[:,:,1] = cv2.remap(original[:,:,1],flow_map[0],flow_map[1],\n",
    "                   interpolation=cv2.INTER_CUBIC, borderMode=cv2.BORDER_REPLICATE)\n",
    "    warped[:,:,2] = cv2.remap(original[:,:,2],flow_map[0],flow_map[1],\n",
    "                   interpolation=cv2.INTER_CUBIC, borderMode=cv2.BORDER_REPLICATE)\n",
    "    \n",
    "    return warped.clip(0,1)"
   ]
  },
  {
   "cell_type": "code",
   "execution_count": 18,
   "metadata": {},
   "outputs": [],
   "source": [
    "def get_warped(im1,flo):\n",
    "    flo_im = cvb.flow2rgb(cvb.read_flow(flo))\n",
    "    im1 = im_loader(im1)\n",
    "    warped = flow_warp(im1,flo)\n",
    "    return warped"
   ]
  },
  {
   "cell_type": "code",
   "execution_count": null,
   "metadata": {},
   "outputs": [],
   "source": [
    "style_img = 'style/kazao.jpg'\n",
    "style_tag = 'kazao'\n",
    "def style_name(img_name):\n",
    "    img_name = img_name.split(\"frame\")\n",
    "    return img_name[-2] + style_tag + img_name[-1]"
   ]
  },
  {
   "cell_type": "code",
   "execution_count": null,
   "metadata": {},
   "outputs": [],
   "source": [
    "warp = 'temp.png'\n",
    "stylize_img(images[0],style_img,images[0],style_name(images[0]), num_steps = 700)\n",
    "warped = get_warped(style_name(images[0]),flos[0])\n",
    "imsave(warp, warped)\n",
    "\n",
    "for im, flo in zip(images[1:],flos[1:]):\n",
    "    stylize_img(im, style_img, warp, style_name(im), num_steps = 200)\n",
    "    warped = get_warped(style_name(im),flo)\n",
    "    imsave(\"temp.png\", warped)"
   ]
  },
  {
   "cell_type": "code",
   "execution_count": null,
   "metadata": {},
   "outputs": [],
   "source": []
  },
  {
   "cell_type": "code",
   "execution_count": null,
   "metadata": {},
   "outputs": [],
   "source": []
  },
  {
   "cell_type": "code",
   "execution_count": null,
   "metadata": {
    "scrolled": false
   },
   "outputs": [],
   "source": []
  },
  {
   "cell_type": "code",
   "execution_count": null,
   "metadata": {},
   "outputs": [],
   "source": []
  },
  {
   "cell_type": "code",
   "execution_count": null,
   "metadata": {},
   "outputs": [],
   "source": [
    "\n",
    "    "
   ]
  },
  {
   "cell_type": "code",
   "execution_count": null,
   "metadata": {},
   "outputs": [],
   "source": []
  },
  {
   "cell_type": "code",
   "execution_count": null,
   "metadata": {},
   "outputs": [],
   "source": [
    "\n",
    "    "
   ]
  },
  {
   "cell_type": "code",
   "execution_count": null,
   "metadata": {},
   "outputs": [],
   "source": []
  }
 ],
 "metadata": {
  "kernelspec": {
   "display_name": "Python 2",
   "language": "python",
   "name": "python2"
  },
  "language_info": {
   "codemirror_mode": {
    "name": "ipython",
    "version": 2
   },
   "file_extension": ".py",
   "mimetype": "text/x-python",
   "name": "python",
   "nbconvert_exporter": "python",
   "pygments_lexer": "ipython2",
   "version": "2.7.12"
  }
 },
 "nbformat": 4,
 "nbformat_minor": 2
}
