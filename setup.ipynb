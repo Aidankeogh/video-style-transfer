{
 "cells": [
  {
   "cell_type": "code",
   "execution_count": 1,
   "metadata": {},
   "outputs": [],
   "source": [
    "#Pre-processing step, only run this once for each new video.\n",
    "\n",
    "#Requires SPyNet, which can be difficult to setup. \n",
    "#Refer to https://github.com/sniklaus/pytorch-spynet for help/debugging.\n",
    "\n",
    "import frames_extractor"
   ]
  },
  {
   "cell_type": "code",
   "execution_count": 2,
   "metadata": {},
   "outputs": [],
   "source": [
    "video_path = \"test-videos/dash.mp4\""
   ]
  },
  {
   "cell_type": "code",
   "execution_count": 3,
   "metadata": {},
   "outputs": [
    {
     "name": "stdout",
     "output_type": "stream",
     "text": [
      "[MoviePy] >>>> Building video test-videos/dash-480p.mp4\n",
      "[MoviePy] Writing audio in dash-480pTEMP_MPY_wvf_snd.mp3\n",
      "[MoviePy] Done.\n",
      "[MoviePy] Writing video test-videos/dash-480p.mp4\n",
      "[MoviePy] Done.\n",
      "[MoviePy] >>>> Video ready: test-videos/dash-480p.mp4 \n",
      "\n"
     ]
    }
   ],
   "source": [
    "frames_extractor.vid_to_imgs(video_path, 10, get_flow=True)"
   ]
  },
  {
   "cell_type": "code",
   "execution_count": null,
   "metadata": {},
   "outputs": [],
   "source": []
  }
 ],
 "metadata": {
  "kernelspec": {
   "display_name": "Python 2",
   "language": "python",
   "name": "python2"
  },
  "language_info": {
   "codemirror_mode": {
    "name": "ipython",
    "version": 2
   },
   "file_extension": ".py",
   "mimetype": "text/x-python",
   "name": "python",
   "nbconvert_exporter": "python",
   "pygments_lexer": "ipython2",
   "version": "2.7.12"
  }
 },
 "nbformat": 4,
 "nbformat_minor": 2
}
